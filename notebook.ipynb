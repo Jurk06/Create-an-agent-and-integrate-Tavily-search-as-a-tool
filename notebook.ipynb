{
 "cells": [
  {
   "cell_type": "code",
   "execution_count": 6,
   "id": "8dc47295-0a73-460b-b95f-4e1906b4e224",
   "metadata": {},
   "outputs": [],
   "source": [
    "import os\n",
    "os.environ[\"TAVILY_API_KEY\"] = \"TAVILY-API-KEY\""
   ]
  },
  {
   "cell_type": "code",
   "execution_count": 7,
   "id": "d398a9d8-2372-4d99-acd4-7dd96a0e98ad",
   "metadata": {},
   "outputs": [],
   "source": [
    "from langchain_community.tools.tavily_search import TavilySearchResults\n"
   ]
  },
  {
   "cell_type": "code",
   "execution_count": 8,
   "id": "40a43b73-d54e-47f6-a1e1-3c3149463e31",
   "metadata": {},
   "outputs": [],
   "source": [
    "searchtool = TavilySearchResults(max_results=3)\n"
   ]
  },
  {
   "cell_type": "code",
   "execution_count": 9,
   "id": "28150c6e-ac06-4309-a0b3-8376e6b96edf",
   "metadata": {},
   "outputs": [
    {
     "data": {
      "text/plain": [
       "[{'url': 'https://www.lemonde.fr/en/sport/euro-2024/results/',\n",
       "  'content': '... UEFA European Football Championship pages on « Le Monde » ... Euro 2024: Spain beats England 2-1 and wins record fourth European Championship title.'},\n",
       " {'url': 'https://en.wikipedia.org/wiki/UEFA_Euro_2024_final',\n",
       "  'content': 'In front of a crowd of 65,600, Spain won the match 2–1 for their record-breaking fourth UEFA European Championship title (after 1964, 2008 and 2012), surpassing Germany as the sole record-winners of the competition. It was also their third title in the last five editions of the tournament. [...] Details[edit]\\n14\\xa0July\\xa02024\\n21:00 CEST\\nSpain\\xa0  2–1 \\xa0England\\nWilliams  47\\'\\nOyarzabal  86\\'\\n    Report\\nPalmer  73\\'\\nOlympiastadion, Berlin\\nAttendance: 65,600[3]\\nReferee: François Letexier (France)\\nSpain[4]\\nEngland[4]\\nGK  23  Unai Simón\\nRB  2   Dani Carvajal\\nCB  3   Robin Le Normand        \\xa083\\'\\nCB  14  Aymeric Laporte\\nLB  24  Marc Cucurella\\nCM  16  Rodri       \\xa046\\'\\nCM  8   Fabián Ruiz\\nRW  19  Lamine Yamal        \\xa089\\'\\nAM  10  Dani Olmo   \\xa031\\'\\nLW  17  Nico Williams\\nCF  7   Álvaro Morata (c)       \\xa068\\' [...] ^ \"Lamine Yamal sets new record as youngest player to feature at a UEFA European Championship\". UEFA.com. Union of European Football Associations. 15 June 2024. Retrieved 10 July 2024.\\n^ \"Spain 1–0 Italy | UEFA EURO 2024\". UEFA.com. Union of European Football Associations. Retrieved 10 July 2024.\\n^ \"Albania 0–1 Spain | UEFA EURO 2024\". UEFA.com. Union of European Football Associations. Retrieved 10 July 2024.'},\n",
       " {'url': 'https://www.cnn.com/2024/07/14/sport/spain-england-euro-2024-final-spt-intl/index.html',\n",
       "  'content': 'Alvaro Morata lifts the Henri Delaunay trophy after Spain defeats England in the Euro 2024 final.\\nMichael Regan/UEFA/Getty Images\\nCNN \\xa0—\\xa0\\nSpain won a record-breaking fourth European Championship, defeating England 2-1 following a drama-filled second half in the Euro 2024 final on Sunday in Berlin. [...] Ad Feedback\\nSports / Football\\nSpain wins Euro 2024, defeating England 2-1 in a dramatic final to claim record fourth European Championship\\nBy Ben Morse, CNN\\n5 minute read\\nUpdated 5:44 PM EDT, Sun July 14, 2024\\n\\nLink Copied!\\nFollow:\\nUK See your latest updates [...] Spain wins Euro 2024, defeating England 2-1 in a dramatic final to claim record fourth European Championship | CNN'}]"
      ]
     },
     "execution_count": 9,
     "metadata": {},
     "output_type": "execute_result"
    }
   ],
   "source": [
    "searchtool.invoke({'query': 'Who won the UEFA European Football Championship in 2024?'})"
   ]
  },
  {
   "cell_type": "code",
   "execution_count": 10,
   "id": "75ef60d9-d06c-4ece-bf96-00f3eb193e43",
   "metadata": {},
   "outputs": [],
   "source": [
    "tools = [searchtool]\n"
   ]
  },
  {
   "cell_type": "code",
   "execution_count": 11,
   "id": "61cdddd1-56ee-440c-b039-5aa326e541e4",
   "metadata": {},
   "outputs": [],
   "source": [
    "from langchain_core.prompts import ChatPromptTemplate\n"
   ]
  },
  {
   "cell_type": "code",
   "execution_count": 12,
   "id": "ee3edeae-5e0c-48d5-a671-d2f562a701c8",
   "metadata": {},
   "outputs": [],
   "source": [
    "prompt = ChatPromptTemplate.from_messages(\n",
    "    [\n",
    "        (\"system\", \"You are a helpful assistant. Make sure to invoke tavily_search_results_json.\"),\n",
    "        (\"human\", \"{input}\"),\n",
    "        (\"placeholder\", \"{agent_scratchpad}\"),\n",
    "    ]\n",
    ")"
   ]
  },
  {
   "cell_type": "code",
   "execution_count": 13,
   "id": "7f264a3e-96ca-4e56-9ea6-90309b0ce353",
   "metadata": {},
   "outputs": [],
   "source": [
    "from langchain.agents import AgentExecutor, create_tool_calling_agent\n"
   ]
  },
  {
   "cell_type": "code",
   "execution_count": 14,
   "id": "e09812e5-855f-4c4c-8e32-8c936fb61eeb",
   "metadata": {},
   "outputs": [],
   "source": [
    "agent = create_tool_calling_agent(model, tools, prompt)\n"
   ]
  },
  {
   "cell_type": "code",
   "execution_count": 15,
   "id": "5bc05962-71cf-4dea-a42d-eae3cd70abc9",
   "metadata": {},
   "outputs": [],
   "source": [
    "agent_executor = AgentExecutor(agent=agent, tools=tools, verbose=True, stream_runnable=False)"
   ]
  },
  {
   "cell_type": "code",
   "execution_count": 16,
   "id": "68ee617a-9cf0-437d-92b1-677c1b8b71fb",
   "metadata": {},
   "outputs": [
    {
     "name": "stdout",
     "output_type": "stream",
     "text": [
      "\n",
      "\n",
      "\u001b[1m> Entering new AgentExecutor chain...\u001b[0m\n",
      "\u001b[32;1m\u001b[1;3m\n",
      "Invoking: `tavily_search_results_json` with `{'query': 'UEFA European Football Championship 2024 winner'}`\n",
      "\n",
      "\n",
      "\u001b[0m\u001b[36;1m\u001b[1;3m[{'url': 'https://www.cnn.com/2024/07/14/sport/spain-england-euro-2024-final-spt-intl/index.html', 'content': 'Alvaro Morata lifts the Henri Delaunay trophy after Spain defeats England in the Euro 2024 final.\\nMichael Regan/UEFA/Getty Images\\nCNN \\xa0—\\xa0\\nSpain won a record-breaking fourth European Championship, defeating England 2-1 following a drama-filled second half in the Euro 2024 final on Sunday in Berlin. [...] Ad Feedback\\nSports / Football\\nSpain wins Euro 2024, defeating England 2-1 in a dramatic final to claim record fourth European Championship\\nBy Ben Morse, CNN\\n5 minute read\\nUpdated 5:44 PM EDT, Sun July 14, 2024\\n\\nLink Copied!\\nFollow:\\nUK See your latest updates [...] Spain wins Euro 2024, defeating England 2-1 in a dramatic final to claim record fourth European Championship | CNN'}, {'url': 'https://en.wikipedia.org/wiki/UEFA_Euro_2024_final', 'content': 'The UEFA Euro 2024 final was a football match that determined the winners of UEFA Euro 2024. The match was the seventeenth final of the European Championship, a quadrennial tournament contested by the men\\'s national teams of the member associations of UEFA to decide the champions of Europe. The match was held at the Olympiastadion in Berlin, Germany, on 14 July 2024, and was contested by Spain, in their fifth final, and England, in their second final, but their first appearance in a major men\\'s [...] In front of a crowd of 65,600, Spain won the match 2–1 for their record-breaking fourth UEFA European Championship title (after 1964, 2008 and 2012), surpassing Germany as the sole record-winners of the competition. It was also their third title in the last five editions of the tournament. [...] ^ a b c d e f g h i \"Spain 2 England 1: Oyarzabal the unlikely hero with late winner as Spain win Euro 2024\". The Athletic. 14 July 2024. Retrieved 14 July 2024.\\n^ \"Regulations of the UEFA European Football Championship, 2022–24\". Union of European Football Associations. 10 May 2022. Archived (PDF) from the original on 16 May 2022. Retrieved 16 May 2022.\\n^ a b c \"Team statistics\" (PDF). UEFA.com. Union of European Football Associations. 14 July 2024. Retrieved 14 July 2024.'}, {'url': 'https://en.wikipedia.org/wiki/UEFA_Euro_2024', 'content': 'The 2024 UEFA European Football Championship, commonly referred to as UEFA Euro 2024 (stylised as UEFA EURO 2024) or simply Euro 2024, was the 17th UEFA European Championship, the quadrennial international football championship organised by UEFA for the European men\\'s national teams of their member associations. Germany hosted the tournament, which took place from 14 June to 14 July 2024. The tournament involved 24 teams, with Georgia making their European Championship debut. [...] ^ \"Switzerland 2–0 Italy: Swiss club together in Berlin\". UEFA.com. Union of European Football Associations. 29 June 2024. Archived from the original on 10 July 2024. Retrieved 29 June 2024.\\n^ \"Spain 2–1 England: Late Oyarzabal winner earns La Roja record fourth EURO crown\". UEFA.com. Union of European Football Associations. 14 July 2024. Retrieved 14 July 2024.'}]\u001b[0m\u001b[32;1m\u001b[1;3mSpain won the UEFA European Football Championship in 2024 by defeating England 2-1 in the final match. This victory marked Spain's record-breaking fourth European Championship title.\u001b[0m\n",
      "\n",
      "\u001b[1m> Finished chain.\u001b[0m\n"
     ]
    },
    {
     "data": {
      "text/plain": [
       "{'input': 'Who won the UEFA European Football Championship in 2024?',\n",
       " 'output': \"Spain won the UEFA European Football Championship in 2024 by defeating England 2-1 in the final match. This victory marked Spain's record-breaking fourth European Championship title.\"}"
      ]
     },
     "execution_count": 16,
     "metadata": {},
     "output_type": "execute_result"
    }
   ],
   "source": [
    "agent_executor.invoke({\"input\": \"Who won the UEFA European Football Championship in 2024?\"})"
   ]
  },
  {
   "cell_type": "code",
   "execution_count": 17,
   "id": "20e15116-55e4-4880-9b48-c4a664ab6d6c",
   "metadata": {},
   "outputs": [
    {
     "name": "stdout",
     "output_type": "stream",
     "text": [
      "\n",
      "\n",
      "\u001b[1m> Entering new AgentExecutor chain...\u001b[0m\n",
      "\u001b[32;1m\u001b[1;3m\n",
      "Invoking: `tavily_search_results_json` with `{'query': 'ICC Cricket World Cup 2023 winner'}`\n",
      "\n",
      "\n",
      "\u001b[0m\u001b[36;1m\u001b[1;3m[{'url': 'https://en.wikipedia.org/wiki/2023_Cricket_World_Cup_final', 'content': 'The 2023 Cricket World Cup Final was a One Day International cricket match played at the Narendra Modi Stadium in Ahmedabad, India, on 19 November 2023 to determine the winner of the 2023 Cricket World Cup.[2] It was played between host nation India and Australia.[3] It was the first time that Ahmedabad hosted a Cricket World Cup final.[4] It was the second time that India and Australia played a World Cup final against each other, after the 2003 final.[5] [...] Jump to content\\nMain menu\\nSearch\\nDonate\\nCreate account\\nLog in\\nPersonal tools\\nToggle the table of contents\\n2023 Cricket World Cup final\\n4 languages\\nArticle\\nTalk\\nRead\\nEdit\\nView history\\nTools\\nFrom Wikipedia, the free encyclopedia\\n2023 Cricket World Cup Final\\nMitchell Starc bowling against Rohit Sharma\\nEvent   2023 Cricket World Cup\\nIndia   Australia\\n240 241/4\\n50 overs    43 overs\\nAustralia won by 6 wickets\\nDate    19 November 2023\\nVenue   Narendra Modi Stadium, Ahmedabad [...] ^ India Today Sports Desk (16 November 2023). \"World Cup: 20 years after Johannesburg classic, India and Australia to meet in final in Ahmedabad\". India Today. Archived from the original on 18 November 2023. Retrieved 16 November 2023.\\n^ \"Awesome Australia beat India to win the ICC Men\\'s Cricket World Cup\". Cricket World Cup. 19 November 2023. Archived from the original on 19 November 2023. Retrieved 19 November 2023.'}, {'url': 'https://en.wikipedia.org/wiki/2023_Cricket_World_Cup', 'content': 'The tournament was contested by ten national teams, maintaining the same format used in 2019. After six weeks of round-robin matches, India, South Africa, Australia, and New Zealand finished as the top four and qualified for the knockout stage. In the knockout stage, India and Australia beat New Zealand and South Africa, respectively, to advance to the final, played on 19 November at the Narendra Modi Stadium in Ahmedabad. Australia won the final by six wickets, winning their sixth Cricket [...] India won by 100 runs\\nBRSABV Ekana Cricket Stadium, Lucknow\\n30 October 2023\\nScorecard\\nSri Lanka\\xa0\\n241 (49.3 overs)\\nv\\nAfghanistan\\n242/3 (45.2 overs)\\nAfghanistan won by 7 wickets\\nMaharashtra Cricket Association Stadium, Pune\\n31 October 2023\\nScorecard\\nBangladesh\\xa0\\n204 (45.1 overs)\\nv\\nPakistan\\n205/3 (32.3 overs)\\nPakistan won by 7 wickets\\nEden Gardens, Kolkata\\n1 November 2023\\nScorecard\\nSouth Africa\\xa0\\n357/4 (50 overs)\\nv\\nNew Zealand\\n167 (35.3 overs)\\nSouth Africa won by 190 runs [...] Australia won by 3 wickets\\nWankhede Stadium, Mumbai\\n8 November 2023\\nScorecard\\nEngland\\xa0\\n339/9 (50 overs)\\nv\\nNetherlands\\n179 (37.2 overs)\\nEngland won by 160 runs\\nMaharashtra Cricket Association Stadium, Pune\\n9 November 2023\\nScorecard\\nSri Lanka\\xa0\\n171 (46.4 overs)\\nv\\nNew Zealand\\n172/5 (23.2 overs)\\nNew Zealand won by 5 wickets\\nM. Chinnaswamy Stadium, Bangalore\\n10 November 2023\\nScorecard\\nAfghanistan\\xa0\\n244 (50 overs)\\nv\\nSouth Africa\\n247/5 (47.3 overs)\\nSouth Africa won by 5 wickets'}, {'url': 'https://currentaffairs.adda247.com/cricket-world-cup-winners-list/', 'content': 'Now, the ICC ODI Cricket World Cup is concluding with the final scheduled for November 19, 2023. Now that the league stage is over, India, Australia, South Africa, and New Zealand have topped the table. The first semi-final took place between India and New Zealand, with India emerging victorious by 70 runs. The second semi-final between Australia and South Africa will determine the finalists for the World Cup 2023 final.\\nODI Cricket World Cup Winners List (1975-2025) [...] As you know the ODI Cricket World Cup 2024 is concluded on 19th November 2023 and Australia won the World Cup final. The 2023 ICC Men’s Cricket World Cup is the 13th edition of the Cricket World Cup, a quadrennial One Day International (ODI) cricket tournament contested by men’s national teams and organized by the International Cricket Council (ICC). [...] As you can see, Australia is the most successful team in the history of the \\xa0ICC men’s ODI Cricket World Cup 2023, having won the tournament 5 times. India and West Indies are the only other countries to have won the World Cup more than once, with two victories each. England won the 2019 World Cup, their first-ever victory in the tournament.\\nODI Cricket World Cup Winners list, Country Wise'}]\u001b[0m\u001b[32;1m\u001b[1;3mAustralia won the ICC Cricket World Cup in 2023 by defeating India in the final. The final match was played on 19 November 2023 at the Narendra Modi Stadium in Ahmedabad, India. Australia emerged victorious by 6 wickets.\u001b[0m\n",
      "\n",
      "\u001b[1m> Finished chain.\u001b[0m\n"
     ]
    },
    {
     "data": {
      "text/plain": [
       "{'input': 'Who won the ICC Cricket world cup in 2023?',\n",
       " 'output': 'Australia won the ICC Cricket World Cup in 2023 by defeating India in the final. The final match was played on 19 November 2023 at the Narendra Modi Stadium in Ahmedabad, India. Australia emerged victorious by 6 wickets.'}"
      ]
     },
     "execution_count": 17,
     "metadata": {},
     "output_type": "execute_result"
    }
   ],
   "source": [
    "agent_executor.invoke({\"input\": \"Who won the ICC Cricket world cup in 2023?\"})"
   ]
  },
  {
   "cell_type": "code",
   "execution_count": null,
   "id": "c1116493-957d-48f7-a68f-b98233e1f511",
   "metadata": {},
   "outputs": [],
   "source": []
  }
 ],
 "metadata": {
  "kernelspec": {
   "display_name": "Python 3 (ipykernel)",
   "language": "python",
   "name": "python3"
  },
  "language_info": {
   "codemirror_mode": {
    "name": "ipython",
    "version": 3
   },
   "file_extension": ".py",
   "mimetype": "text/x-python",
   "name": "python",
   "nbconvert_exporter": "python",
   "pygments_lexer": "ipython3",
   "version": "3.8.10"
  }
 },
 "nbformat": 4,
 "nbformat_minor": 5
}
