{
 "cells": [
  {
   "cell_type": "code",
   "execution_count": 6,
   "id": "8dc47295-0a73-460b-b95f-4e1906b4e224",
   "metadata": {},
   "outputs": [],
   "source": [
    "import os\n",
    "os.environ[\"TAVILY_API_KEY\"] = \"TAVILY-API-KEY\""
   ]
  },
  {
   "cell_type": "code",
   "execution_count": 7,
   "id": "d398a9d8-2372-4d99-acd4-7dd96a0e98ad",
   "metadata": {},
   "outputs": [],
   "source": [
    "from langchain_community.tools.tavily_search import TavilySearchResults\n"
   ]
  },
  {
   "cell_type": "code",
   "execution_count": 8,
   "id": "40a43b73-d54e-47f6-a1e1-3c3149463e31",
   "metadata": {},
   "outputs": [],
   "source": [
    "searchtool = TavilySearchResults(max_results=3)\n"
   ]
  },
  {
   "cell_type": "code",
   "execution_count": 27,
   "id": "28150c6e-ac06-4309-a0b3-8376e6b96edf",
   "metadata": {
    "collapsed": true,
    "jupyter": {
     "outputs_hidden": true
    },
    "tags": []
   },
   "outputs": [
    {
     "data": {
      "text/plain": [
       "[{'url': 'https://www.lemonde.fr/en/sport/euro-2024/results/',\n",
       "  'content': '... UEFA European Football Championship pages on « Le Monde » ... Euro 2024: Spain beats England 2-1 and wins record fourth European Championship title.'},\n",
       " {'url': 'https://en.wikipedia.org/wiki/UEFA_Euro_2024_final',\n",
       "  'content': 'In front of a crowd of 65,600, Spain won the match 2–1 for their record-breaking fourth UEFA European Championship title (after 1964, 2008 and 2012), surpassing Germany as the sole record-winners of the competition. It was also their third title in the last five editions of the tournament. [...] Details[edit]\\n14\\xa0July\\xa02024\\n21:00 CEST\\nSpain\\xa0  2–1 \\xa0England\\nWilliams  47\\'\\nOyarzabal  86\\'\\n    Report\\nPalmer  73\\'\\nOlympiastadion, Berlin\\nAttendance: 65,600[3]\\nReferee: François Letexier (France)\\nSpain[4]\\nEngland[4]\\nGK  23  Unai Simón\\nRB  2   Dani Carvajal\\nCB  3   Robin Le Normand        \\xa083\\'\\nCB  14  Aymeric Laporte\\nLB  24  Marc Cucurella\\nCM  16  Rodri       \\xa046\\'\\nCM  8   Fabián Ruiz\\nRW  19  Lamine Yamal        \\xa089\\'\\nAM  10  Dani Olmo   \\xa031\\'\\nLW  17  Nico Williams\\nCF  7   Álvaro Morata (c)       \\xa068\\' [...] ^ \"Lamine Yamal sets new record as youngest player to feature at a UEFA European Championship\". UEFA.com. Union of European Football Associations. 15 June 2024. Retrieved 10 July 2024.\\n^ \"Spain 1–0 Italy | UEFA EURO 2024\". UEFA.com. Union of European Football Associations. Retrieved 10 July 2024.\\n^ \"Albania 0–1 Spain | UEFA EURO 2024\". UEFA.com. Union of European Football Associations. Retrieved 10 July 2024.'},\n",
       " {'url': 'https://www.cnn.com/2024/07/14/sport/spain-england-euro-2024-final-spt-intl/index.html',\n",
       "  'content': 'Alvaro Morata lifts the Henri Delaunay trophy after Spain defeats England in the Euro 2024 final.\\nMichael Regan/UEFA/Getty Images\\nCNN \\xa0—\\xa0\\nSpain won a record-breaking fourth European Championship, defeating England 2-1 following a drama-filled second half in the Euro 2024 final on Sunday in Berlin. [...] Ad Feedback\\nSports / Football\\nSpain wins Euro 2024, defeating England 2-1 in a dramatic final to claim record fourth European Championship\\nBy Ben Morse, CNN\\n5 minute read\\nUpdated 5:44 PM EDT, Sun July 14, 2024\\n\\nLink Copied!\\nFollow:\\nUK See your latest updates [...] Spain wins Euro 2024, defeating England 2-1 in a dramatic final to claim record fourth European Championship | CNN'}]"
      ]
     },
     "execution_count": 27,
     "metadata": {},
     "output_type": "execute_result"
    }
   ],
   "source": [
    "searchtool.invoke({'query': 'Who won the UEFA European Football Championship in 2024?'})"
   ]
  },
  {
   "cell_type": "code",
   "execution_count": 28,
   "id": "75ef60d9-d06c-4ece-bf96-00f3eb193e43",
   "metadata": {},
   "outputs": [],
   "source": [
    "tools = [searchtool]\n"
   ]
  },
  {
   "cell_type": "code",
   "execution_count": 29,
   "id": "61cdddd1-56ee-440c-b039-5aa326e541e4",
   "metadata": {},
   "outputs": [],
   "source": [
    "from langchain_core.prompts import ChatPromptTemplate\n"
   ]
  },
  {
   "cell_type": "code",
   "execution_count": 30,
   "id": "ee3edeae-5e0c-48d5-a671-d2f562a701c8",
   "metadata": {},
   "outputs": [],
   "source": [
    "prompt = ChatPromptTemplate.from_messages(\n",
    "    [\n",
    "        (\"system\", \"You are a helpful assistant. Make sure to invoke tavily_search_results_json.\"),\n",
    "        (\"human\", \"{input}\"),\n",
    "        (\"placeholder\", \"{agent_scratchpad}\"),\n",
    "    ]\n",
    ")"
   ]
  },
  {
   "cell_type": "code",
   "execution_count": 31,
   "id": "7f264a3e-96ca-4e56-9ea6-90309b0ce353",
   "metadata": {},
   "outputs": [],
   "source": [
    "from langchain.agents import AgentExecutor, create_tool_calling_agent\n"
   ]
  },
  {
   "cell_type": "code",
   "execution_count": 32,
   "id": "e09812e5-855f-4c4c-8e32-8c936fb61eeb",
   "metadata": {},
   "outputs": [],
   "source": [
    "agent = create_tool_calling_agent(model, tools, prompt)\n"
   ]
  },
  {
   "cell_type": "code",
   "execution_count": 15,
   "id": "5bc05962-71cf-4dea-a42d-eae3cd70abc9",
   "metadata": {},
   "outputs": [],
   "source": [
    "agent_executor = AgentExecutor(agent=agent, tools=tools, verbose=True, stream_runnable=False)"
   ]
  },
  {
   "cell_type": "code",
   "execution_count": 16,
   "id": "68ee617a-9cf0-437d-92b1-677c1b8b71fb",
   "metadata": {
    "collapsed": true,
    "jupyter": {
     "outputs_hidden": true
    },
    "tags": []
   },
   "outputs": [
    {
     "name": "stdout",
     "output_type": "stream",
     "text": [
      "\n",
      "\n",
      "\u001b[1m> Entering new AgentExecutor chain...\u001b[0m\n",
      "\u001b[32;1m\u001b[1;3m\n",
      "Invoking: `tavily_search_results_json` with `{'query': 'UEFA European Football Championship 2024 winner'}`\n",
      "\n",
      "\n",
      "\u001b[0m\u001b[36;1m\u001b[1;3m[{'url': 'https://www.cnn.com/2024/07/14/sport/spain-england-euro-2024-final-spt-intl/index.html', 'content': 'Alvaro Morata lifts the Henri Delaunay trophy after Spain defeats England in the Euro 2024 final.\\nMichael Regan/UEFA/Getty Images\\nCNN \\xa0—\\xa0\\nSpain won a record-breaking fourth European Championship, defeating England 2-1 following a drama-filled second half in the Euro 2024 final on Sunday in Berlin. [...] Ad Feedback\\nSports / Football\\nSpain wins Euro 2024, defeating England 2-1 in a dramatic final to claim record fourth European Championship\\nBy Ben Morse, CNN\\n5 minute read\\nUpdated 5:44 PM EDT, Sun July 14, 2024\\n\\nLink Copied!\\nFollow:\\nUK See your latest updates [...] Spain wins Euro 2024, defeating England 2-1 in a dramatic final to claim record fourth European Championship | CNN'}, {'url': 'https://en.wikipedia.org/wiki/UEFA_Euro_2024_final', 'content': 'The UEFA Euro 2024 final was a football match that determined the winners of UEFA Euro 2024. The match was the seventeenth final of the European Championship, a quadrennial tournament contested by the men\\'s national teams of the member associations of UEFA to decide the champions of Europe. The match was held at the Olympiastadion in Berlin, Germany, on 14 July 2024, and was contested by Spain, in their fifth final, and England, in their second final, but their first appearance in a major men\\'s [...] In front of a crowd of 65,600, Spain won the match 2–1 for their record-breaking fourth UEFA European Championship title (after 1964, 2008 and 2012), surpassing Germany as the sole record-winners of the competition. It was also their third title in the last five editions of the tournament. [...] ^ a b c d e f g h i \"Spain 2 England 1: Oyarzabal the unlikely hero with late winner as Spain win Euro 2024\". The Athletic. 14 July 2024. Retrieved 14 July 2024.\\n^ \"Regulations of the UEFA European Football Championship, 2022–24\". Union of European Football Associations. 10 May 2022. Archived (PDF) from the original on 16 May 2022. Retrieved 16 May 2022.\\n^ a b c \"Team statistics\" (PDF). UEFA.com. Union of European Football Associations. 14 July 2024. Retrieved 14 July 2024.'}, {'url': 'https://en.wikipedia.org/wiki/UEFA_Euro_2024', 'content': 'The 2024 UEFA European Football Championship, commonly referred to as UEFA Euro 2024 (stylised as UEFA EURO 2024) or simply Euro 2024, was the 17th UEFA European Championship, the quadrennial international football championship organised by UEFA for the European men\\'s national teams of their member associations. Germany hosted the tournament, which took place from 14 June to 14 July 2024. The tournament involved 24 teams, with Georgia making their European Championship debut. [...] ^ \"Switzerland 2–0 Italy: Swiss club together in Berlin\". UEFA.com. Union of European Football Associations. 29 June 2024. Archived from the original on 10 July 2024. Retrieved 29 June 2024.\\n^ \"Spain 2–1 England: Late Oyarzabal winner earns La Roja record fourth EURO crown\". UEFA.com. Union of European Football Associations. 14 July 2024. Retrieved 14 July 2024.'}]\u001b[0m\u001b[32;1m\u001b[1;3mSpain won the UEFA European Football Championship in 2024 by defeating England 2-1 in the final match. This victory marked Spain's record-breaking fourth European Championship title.\u001b[0m\n",
      "\n",
      "\u001b[1m> Finished chain.\u001b[0m\n"
     ]
    },
    {
     "data": {
      "text/plain": [
       "{'input': 'Who won the UEFA European Football Championship in 2024?',\n",
       " 'output': \"Spain won the UEFA European Football Championship in 2024 by defeating England 2-1 in the final match. This victory marked Spain's record-breaking fourth European Championship title.\"}"
      ]
     },
     "execution_count": 16,
     "metadata": {},
     "output_type": "execute_result"
    }
   ],
   "source": [
    "agent_executor.invoke({\"input\": \"Who won the UEFA European Football Championship in 2024?\"})"
   ]
  },
  {
   "cell_type": "code",
   "execution_count": 17,
   "id": "20e15116-55e4-4880-9b48-c4a664ab6d6c",
   "metadata": {
    "collapsed": true,
    "jupyter": {
     "outputs_hidden": true
    },
    "tags": []
   },
   "outputs": [
    {
     "name": "stdout",
     "output_type": "stream",
     "text": [
      "\n",
      "\n",
      "\u001b[1m> Entering new AgentExecutor chain...\u001b[0m\n",
      "\u001b[32;1m\u001b[1;3m\n",
      "Invoking: `tavily_search_results_json` with `{'query': 'ICC Cricket World Cup 2023 winner'}`\n",
      "\n",
      "\n",
      "\u001b[0m\u001b[36;1m\u001b[1;3m[{'url': 'https://en.wikipedia.org/wiki/2023_Cricket_World_Cup_final', 'content': 'The 2023 Cricket World Cup Final was a One Day International cricket match played at the Narendra Modi Stadium in Ahmedabad, India, on 19 November 2023 to determine the winner of the 2023 Cricket World Cup.[2] It was played between host nation India and Australia.[3] It was the first time that Ahmedabad hosted a Cricket World Cup final.[4] It was the second time that India and Australia played a World Cup final against each other, after the 2003 final.[5] [...] Jump to content\\nMain menu\\nSearch\\nDonate\\nCreate account\\nLog in\\nPersonal tools\\nToggle the table of contents\\n2023 Cricket World Cup final\\n4 languages\\nArticle\\nTalk\\nRead\\nEdit\\nView history\\nTools\\nFrom Wikipedia, the free encyclopedia\\n2023 Cricket World Cup Final\\nMitchell Starc bowling against Rohit Sharma\\nEvent   2023 Cricket World Cup\\nIndia   Australia\\n240 241/4\\n50 overs    43 overs\\nAustralia won by 6 wickets\\nDate    19 November 2023\\nVenue   Narendra Modi Stadium, Ahmedabad [...] ^ India Today Sports Desk (16 November 2023). \"World Cup: 20 years after Johannesburg classic, India and Australia to meet in final in Ahmedabad\". India Today. Archived from the original on 18 November 2023. Retrieved 16 November 2023.\\n^ \"Awesome Australia beat India to win the ICC Men\\'s Cricket World Cup\". Cricket World Cup. 19 November 2023. Archived from the original on 19 November 2023. Retrieved 19 November 2023.'}, {'url': 'https://en.wikipedia.org/wiki/2023_Cricket_World_Cup', 'content': 'The tournament was contested by ten national teams, maintaining the same format used in 2019. After six weeks of round-robin matches, India, South Africa, Australia, and New Zealand finished as the top four and qualified for the knockout stage. In the knockout stage, India and Australia beat New Zealand and South Africa, respectively, to advance to the final, played on 19 November at the Narendra Modi Stadium in Ahmedabad. Australia won the final by six wickets, winning their sixth Cricket [...] India won by 100 runs\\nBRSABV Ekana Cricket Stadium, Lucknow\\n30 October 2023\\nScorecard\\nSri Lanka\\xa0\\n241 (49.3 overs)\\nv\\nAfghanistan\\n242/3 (45.2 overs)\\nAfghanistan won by 7 wickets\\nMaharashtra Cricket Association Stadium, Pune\\n31 October 2023\\nScorecard\\nBangladesh\\xa0\\n204 (45.1 overs)\\nv\\nPakistan\\n205/3 (32.3 overs)\\nPakistan won by 7 wickets\\nEden Gardens, Kolkata\\n1 November 2023\\nScorecard\\nSouth Africa\\xa0\\n357/4 (50 overs)\\nv\\nNew Zealand\\n167 (35.3 overs)\\nSouth Africa won by 190 runs [...] Australia won by 3 wickets\\nWankhede Stadium, Mumbai\\n8 November 2023\\nScorecard\\nEngland\\xa0\\n339/9 (50 overs)\\nv\\nNetherlands\\n179 (37.2 overs)\\nEngland won by 160 runs\\nMaharashtra Cricket Association Stadium, Pune\\n9 November 2023\\nScorecard\\nSri Lanka\\xa0\\n171 (46.4 overs)\\nv\\nNew Zealand\\n172/5 (23.2 overs)\\nNew Zealand won by 5 wickets\\nM. Chinnaswamy Stadium, Bangalore\\n10 November 2023\\nScorecard\\nAfghanistan\\xa0\\n244 (50 overs)\\nv\\nSouth Africa\\n247/5 (47.3 overs)\\nSouth Africa won by 5 wickets'}, {'url': 'https://currentaffairs.adda247.com/cricket-world-cup-winners-list/', 'content': 'Now, the ICC ODI Cricket World Cup is concluding with the final scheduled for November 19, 2023. Now that the league stage is over, India, Australia, South Africa, and New Zealand have topped the table. The first semi-final took place between India and New Zealand, with India emerging victorious by 70 runs. The second semi-final between Australia and South Africa will determine the finalists for the World Cup 2023 final.\\nODI Cricket World Cup Winners List (1975-2025) [...] As you know the ODI Cricket World Cup 2024 is concluded on 19th November 2023 and Australia won the World Cup final. The 2023 ICC Men’s Cricket World Cup is the 13th edition of the Cricket World Cup, a quadrennial One Day International (ODI) cricket tournament contested by men’s national teams and organized by the International Cricket Council (ICC). [...] As you can see, Australia is the most successful team in the history of the \\xa0ICC men’s ODI Cricket World Cup 2023, having won the tournament 5 times. India and West Indies are the only other countries to have won the World Cup more than once, with two victories each. England won the 2019 World Cup, their first-ever victory in the tournament.\\nODI Cricket World Cup Winners list, Country Wise'}]\u001b[0m\u001b[32;1m\u001b[1;3mAustralia won the ICC Cricket World Cup in 2023 by defeating India in the final. The final match was played on 19 November 2023 at the Narendra Modi Stadium in Ahmedabad, India. Australia emerged victorious by 6 wickets.\u001b[0m\n",
      "\n",
      "\u001b[1m> Finished chain.\u001b[0m\n"
     ]
    },
    {
     "data": {
      "text/plain": [
       "{'input': 'Who won the ICC Cricket world cup in 2023?',\n",
       " 'output': 'Australia won the ICC Cricket World Cup in 2023 by defeating India in the final. The final match was played on 19 November 2023 at the Narendra Modi Stadium in Ahmedabad, India. Australia emerged victorious by 6 wickets.'}"
      ]
     },
     "execution_count": 17,
     "metadata": {},
     "output_type": "execute_result"
    }
   ],
   "source": [
    "agent_executor.invoke({\"input\": \"Who won the ICC Cricket world cup in 2023?\"})"
   ]
  },
  {
   "cell_type": "code",
   "execution_count": 19,
   "id": "e1dfc75b-52e0-4e0d-8ee1-da0402828020",
   "metadata": {},
   "outputs": [],
   "source": [
    "import os\n",
    "from typing import List, Optional\n",
    "\n",
    "from langchain.agents import AgentType, initialize_agent\n",
    "from langchain.callbacks.manager import CallbackManagerForLLMRun\n",
    "from langchain.llms import OpenAI\n",
    "from langchain.schema import AgentAction, AgentFinish, LLMResult\n",
    "from langchain.tools import BaseTool\n",
    "from tavily import TavilyClient\n"
   ]
  },
  {
   "cell_type": "code",
   "execution_count": 20,
   "id": "f62d7746-c1ce-4ff2-b37b-34aef4c4d049",
   "metadata": {},
   "outputs": [],
   "source": [
    "# Set your Tavily API key as an environment variable\n",
    "os.environ[\"TAVILY_API_KEY\"] = \"YOUR_TAVILY_API_KEY\"  # Replace with your actual API key\n"
   ]
  },
  {
   "cell_type": "code",
   "execution_count": 21,
   "id": "a677d6f4-eb42-4753-8d40-5dc412821bbf",
   "metadata": {},
   "outputs": [],
   "source": [
    "class TavilySearchTool(BaseTool):\n",
    "    name = \"Tavily Search\"\n",
    "    description = \"Useful for when you need to answer questions about current events. You should ask targeted questions.\"\n",
    "\n",
    "    def _run(self, query: str, run_manager: Optional[CallbackManagerForLLMRun] = None) -> str:\n",
    "        \"\"\"Use the Tavily API to search for the query.\"\"\"\n",
    "        tavily = TavilyClient()\n",
    "        results = tavily.search(query)\n",
    "        return str(results)\n",
    "\n",
    "    async def _arun(self, query: str, run_manager: Optional[CallbackManagerForLLMRun] = None) -> str:\n",
    "        \"\"\"Use the Tavily API to search for the query.\"\"\"\n",
    "        tavily = TavilyClient()\n",
    "        results = tavily.search(query)\n",
    "        return str(results)"
   ]
  },
  {
   "cell_type": "code",
   "execution_count": 22,
   "id": "504f0dcb-d983-4370-af50-ee21273b4fd5",
   "metadata": {},
   "outputs": [],
   "source": [
    "\n",
    "# Initialize the language model\n",
    "llm = OpenAI(temperature=0)  # You can adjust the temperature\n",
    "\n",
    "# Initialize the Tavily tool\n",
    "tavily_tool = TavilySearchTool()"
   ]
  },
  {
   "cell_type": "code",
   "execution_count": 23,
   "id": "20926ba7-def4-4bec-9450-5eb7d5de0def",
   "metadata": {},
   "outputs": [],
   "source": [
    "# Create a list of tools for the agent to use\n",
    "tools = [tavily_tool]"
   ]
  },
  {
   "cell_type": "code",
   "execution_count": 33,
   "id": "365eb02d-dd83-485a-804d-076338c6765e",
   "metadata": {},
   "outputs": [],
   "source": [
    "\n",
    "# # Initialize the agent\n",
    "# agent = initialize_agent(\n",
    "#     tools,\n",
    "#     # llm,\n",
    "#     agent=AgentType.ZERO_SHOT_REACT_DESCRIPTION, #or other agent types\n",
    "#     verbose=True, #set to true to see the agents thought process.\n",
    "# )\n",
    "agent = create_tool_calling_agent(model, tools, prompt)\n"
   ]
  },
  {
   "cell_type": "code",
   "execution_count": 35,
   "id": "e7796026-94ed-4ba5-9778-eda52671bdad",
   "metadata": {},
   "outputs": [],
   "source": [
    "agent_executor = AgentExecutor(agent=agent, tools=tools, verbose=True, stream_runnable=False)"
   ]
  },
  {
   "cell_type": "code",
   "execution_count": 36,
   "id": "8e92ab05-c6f9-4725-ae8a-225d64bd7bbc",
   "metadata": {},
   "outputs": [
    {
     "name": "stdout",
     "output_type": "stream",
     "text": [
      "\n",
      "\n",
      "\u001b[1m> Entering new AgentExecutor chain...\u001b[0m\n",
      "\u001b[32;1m\u001b[1;3m\n",
      "Invoking: `tavily_search_results_json` with `{'query': 'latest news about Mars rover'}`\n",
      "\n",
      "\n",
      "\u001b[0m\u001b[36;1m\u001b[1;3m[{'url': 'https://www.bbc.com/news/topics/cqj8yrnmjjmt', 'content': \"Mars life clues deposited ready for Earth return. Nasa's Perseverance Mars rover begins building a store of rocks for retrieval by a later mission. 22 Dec 2022.\"}, {'url': 'https://www.sciencedaily.com/news/space_time/mars/', 'content': \"Oct. 7, 2024 — NASA's Curiosity rover, currently exploring Gale crater on Mars, is providing new details about how the ancient Martian climate went from\"}, {'url': 'https://www.the-independent.com/topic/curiosity-rover', 'content': \"Nasa rover has found previously undetected organic molecules on Mars\\n\\nEvidence of ancient life on Mars has been ‘erased’, Nasa says\\n\\nNext stop Mars: 3 spacecraft arriving in quick succession\\n\\nNasa gets inexplicable new data showing oxygen fluctuations on Mars\\n\\nNasa Mars rover discovers gas that suggests recent alien life\\n\\nMysterious glowing light on Mars captured by Nasa's Curiosity probe\\n\\nNasa Curiosity rover spots strange shiny object on Mars surface [...] Thank you for registering\\n\\nPlease refresh the page or navigate to another page on the site to be automatically logged inPlease refresh your browser to be logged in\\n\\nCuriosity Rover\\n\\nNASA releases images from Mars rover in hunt for proof of life\\n\\nNasa’s Mars rover finds mysterious metallic object on Red Planet\\n\\nNasa’s Curiosity rover celebrates its 10th birthday on Mars\\n\\nWeird rock formation spotted on Mars looks like an ‘alien doorway’ [...] Stargazing July: The month of Mars as it outshines Jupiter\\n\\nMars discovery brings us 'closer than ever' to finding life on planet\\n\\nMars discovery brings us 'closer than ever' to finding life on planet\\n\\nNasa to hold major announcement about new discovery on Mars\\n\\nRobot bees for exploring surface of Mars being developed by Nasa\\n\\nScientists believe they may have found evidence that life once existed\\n\\nNasa's Mars Curiosity Rover takes stunning pictures of sand dunes\"}]\u001b[0m\u001b[32;1m\u001b[1;3mHere are some of the latest news about the Mars rover:\n",
      "1. [BBC News: \"Mars life clues deposited ready for Earth return\"](https://www.bbc.com/news/topics/cqj8yrnmjjmt) - Nasa's Perseverance Mars rover begins building a store of rocks for retrieval by a later mission. (Published on 22 Dec 2022)\n",
      "2. [Science Daily: NASA's Curiosity rover providing new details about ancient Martian climate](https://www.sciencedaily.com/news/space_time/mars/) - NASA's Curiosity rover, currently exploring Gale crater on Mars, is providing new details about how the ancient Martian climate evolved.\n",
      "3. [The Independent: Various news updates about the Curiosity rover](https://www.the-independent.com/topic/curiosity-rover) - Nasa rover has found previously undetected organic molecules on Mars, evidence of ancient life on Mars has been ‘erased’, recent discoveries of gas that suggests recent alien life, and more.\u001b[0m\n",
      "\n",
      "\u001b[1m> Finished chain.\u001b[0m\n"
     ]
    },
    {
     "data": {
      "text/plain": [
       "{'input': 'What are the latest news about the Mars rover?',\n",
       " 'output': 'Here are some of the latest news about the Mars rover:\\n1. [BBC News: \"Mars life clues deposited ready for Earth return\"](https://www.bbc.com/news/topics/cqj8yrnmjjmt) - Nasa\\'s Perseverance Mars rover begins building a store of rocks for retrieval by a later mission. (Published on 22 Dec 2022)\\n2. [Science Daily: NASA\\'s Curiosity rover providing new details about ancient Martian climate](https://www.sciencedaily.com/news/space_time/mars/) - NASA\\'s Curiosity rover, currently exploring Gale crater on Mars, is providing new details about how the ancient Martian climate evolved.\\n3. [The Independent: Various news updates about the Curiosity rover](https://www.the-independent.com/topic/curiosity-rover) - Nasa rover has found previously undetected organic molecules on Mars, evidence of ancient life on Mars has been ‘erased’, recent discoveries of gas that suggests recent alien life, and more.'}"
      ]
     },
     "execution_count": 36,
     "metadata": {},
     "output_type": "execute_result"
    }
   ],
   "source": [
    "# Run the agent with a query\n",
    "query = \"What are the latest news about the Mars rover?\"\n",
    "# response = agent.run(query)\n",
    "\n",
    "# print(response)\n",
    "\n",
    "agent_executor.invoke({\"input\":query})"
   ]
  },
  {
   "cell_type": "code",
   "execution_count": 37,
   "id": "c1116493-957d-48f7-a68f-b98233e1f511",
   "metadata": {},
   "outputs": [
    {
     "name": "stdout",
     "output_type": "stream",
     "text": [
      "\n",
      "\n",
      "\u001b[1m> Entering new AgentExecutor chain...\u001b[0m\n",
      "\u001b[32;1m\u001b[1;3m\n",
      "Invoking: `tavily_search_results_json` with `{'query': 'recent advancements in AI'}`\n",
      "\n",
      "\n",
      "\u001b[0m\u001b[36;1m\u001b[1;3m[{'url': 'https://indatalabs.com/blog/ai-latest-developments', 'content': 'Source: Unsplash\\nSome of the most recent advancements in this field include the release of Magnifier, a behavioral analytics solution from Palo Alto Networks. The latest AI developments solution models network behavior by using machine learning to enhance threat detection.\\nAlphabet, the parent company of Google, has introduced the cybersecurity intelligence platform Chronicle to streamline and improve cybersecurity measures as we know them.\\n#9: AI applications in fintech [...] Source: Unsplash\\nIt’s difficult for machines to identify rare diseases due to image shortages. Recent developments in AI have allowed for the augmentation of AI training by computer-generated X-rays to create a larger database. Through this database, neural networks are trained to identify rare conditions.\\n#4: AI developments in the automobile sector [...] Exploring recent developments in artificial intelligence\\nArtificial intelligence trends in robotics\\nAI advancements in healthcare\\nAI developments in the automobile sector\\nAI advancing towards high-level human functions\\nThe development of robotic assistants\\nArtificial intelligence and cybersecurity\\nAI applications in fintech\\nMore intelligent smartphone apps\\nWhat artificial intelligence development to expect in the nearest few years\\n\\nAI Strategy Consulting\\nContact Us'}, {'url': 'https://appinventiv.com/blog/ai-trends/', 'content': 'A. The current state of AI includes advancements in AutoML for automating machine learning processes, the rise of Multi-modal AI combining text, image, and speech processing, Explainable AI for transparency in decision-making, enhanced Computer Vision capabilities, and the evolution of Neural Networks for more efficient learning. Additionally, Digital Twins are gaining prominence for simulating real-world objects digitally, reflecting the diverse applications transforming industries globally. [...] Also, Meta has recently introduced five significant new AI models and research initiatives. These include multi-modal systems capable of processing both text and images, advanced language models, music generation technology, AI speech detection, and initiatives to enhance diversity in AI systems.\\nDigital Twins'}, {'url': 'https://online-engineering.case.edu/blog/advancements-in-artificial-intelligence-and-machine-learning', 'content': 'In recent years, advancements in artificial intelligence (AI) and machine learning (ML) have driven optimization in systems and control engineering. We live in an age of big data, and AI and ML can analyze vast amounts of data in real time to improve efficiency and accuracy in data-driven decision-making processes. In control engineering, for example, AI algorithms can predict system behaviors and automatically adjust controls to optimize performance for increased efficiency and reliability.1 [...] This article will explore the latest advancements in artificial intelligence and machine learning, including recent development of advanced algorithms.\\nDeep Learning and Neural Networks'}]\u001b[0m\u001b[32;1m\u001b[1;3mHere are some recent advancements in AI:\n",
      "\n",
      "1. The release of Magnifier, a behavioral analytics solution from Palo Alto Networks, which models network behavior using machine learning to enhance threat detection.\n",
      "2. Alphabet (Google's parent company) introduced the cybersecurity intelligence platform Chronicle to streamline cybersecurity measures.\n",
      "3. Advancements in AI have enabled the augmentation of AI training by using computer-generated X-rays to create a larger database for identifying rare diseases.\n",
      "4. Advancements in AI applications in the automobile sector.\n",
      "5. Evolution of AI trends in robotics, healthcare, cybersecurity, fintech, and smartphone apps.\n",
      "6. Advancements in AutoML for automating machine learning processes, Multi-modal AI combining text, image, and speech processing, Explainable AI for transparency, enhanced Computer Vision capabilities, and Neural Networks for more efficient learning.\n",
      "7. Meta introduced new AI models and research initiatives, including multi-modal systems, advanced language models, music generation technology, AI speech detection, and initiatives to enhance diversity in AI systems.\n",
      "8. AI and machine learning advancements driving optimization in systems and control engineering, analyzing vast amounts of data for data-driven decision-making processes.\u001b[0m\n",
      "\n",
      "\u001b[1m> Finished chain.\u001b[0m\n"
     ]
    },
    {
     "data": {
      "text/plain": [
       "{'input': 'What are the recent advancements in AI?',\n",
       " 'output': \"Here are some recent advancements in AI:\\n\\n1. The release of Magnifier, a behavioral analytics solution from Palo Alto Networks, which models network behavior using machine learning to enhance threat detection.\\n2. Alphabet (Google's parent company) introduced the cybersecurity intelligence platform Chronicle to streamline cybersecurity measures.\\n3. Advancements in AI have enabled the augmentation of AI training by using computer-generated X-rays to create a larger database for identifying rare diseases.\\n4. Advancements in AI applications in the automobile sector.\\n5. Evolution of AI trends in robotics, healthcare, cybersecurity, fintech, and smartphone apps.\\n6. Advancements in AutoML for automating machine learning processes, Multi-modal AI combining text, image, and speech processing, Explainable AI for transparency, enhanced Computer Vision capabilities, and Neural Networks for more efficient learning.\\n7. Meta introduced new AI models and research initiatives, including multi-modal systems, advanced language models, music generation technology, AI speech detection, and initiatives to enhance diversity in AI systems.\\n8. AI and machine learning advancements driving optimization in systems and control engineering, analyzing vast amounts of data for data-driven decision-making processes.\"}"
      ]
     },
     "execution_count": 37,
     "metadata": {},
     "output_type": "execute_result"
    }
   ],
   "source": [
    "query = \"What are the recent advancements in AI?\"\n",
    "# response = agent.run(query)\n",
    "agent_executor.invoke({\"input\":query})\n",
    "\n"
   ]
  },
  {
   "cell_type": "code",
   "execution_count": 39,
   "id": "64135d30-701d-4f81-980f-5021951b3540",
   "metadata": {},
   "outputs": [
    {
     "name": "stdout",
     "output_type": "stream",
     "text": [
      "\n",
      "\n",
      "\u001b[1m> Entering new AgentExecutor chain...\u001b[0m\n",
      "\u001b[32;1m\u001b[1;3m\n",
      "Invoking: `tavily_search_results_json` with `{'query': 'current CEO of Microsoft'}`\n",
      "\n",
      "\n",
      "\u001b[0m\u001b[36;1m\u001b[1;3m[{'url': 'https://en.wikipedia.org/wiki/Satya_Nadella', 'content': 'Satya Narayana Nadella (/nəˈdɛlə/; born 19 August 1967) is an Indian-born American business executive who is the chairman and chief executive officer (CEO) of Microsoft, succeeding Steve Ballmer in 2014 as CEO[2][3] and John W. Thompson in 2021 as chairman.[4][5] Before becoming CEO, he was the executive vice president of Microsoft\\'s cloud and enterprise group, responsible for building and running the company\\'s computing platforms.[6]\\nEarly life [...] Corporate Vice-president of Business Solutions and Search & Advertising Platform Group\\nExecutive Vice-president of Cloud and Enterprise group[34]\\nChief executive officer (2014–present)\\nOn 4 February 2014, Nadella was announced as the new CEO of Microsoft,[2][35] the third CEO in the company\\'s history, following Bill Gates and Steve Ballmer.[36] [...] ^ Satya Nadella, President, Server & Tools Business, archived from the original on 9 February 2014, retrieved 26 June 2017\\n^ Ohlheiser, Abby (4 February 2014). \"Microsoft Has Found Its New CEO: Satya Nadella\". The Atlantic. Archived from the original on 6 July 2020. Retrieved 31 May 2020.\\n^ \"Microsoft names Satya Nadella new CEO\". CNET. 4 February 2014. Archived from the original on 6 February 2014. Retrieved 11 June 2020.'}, {'url': 'https://www.businessinsider.com/microsoft-ceo', 'content': \"Satya Nadella has been Microsoft's CEO since February 4, 2014, and its executive chairman since June 2021. He is the company's third CEO since its incorporation in 1975.\\nAD\\nLet's break down the company's chief executives and their tenures:\\nBill Gates (1975-2000) [...] Satya Nadella has been Microsoft's CEO since 2014, overseeing the company's shift to cloud computing and AI development. Stephen Brashear/Getty Images\\nThis story is available exclusively to Business Insider subscribers. Become an Insider and start reading now. Have an account? Log in. [...] Microsoft has had three CEOs since its founding in 1975.\\nBill Gates, Steve Ballmer, and Satya Nadella have steered the company through its 50-year history.\\nRead about the CEOs who oversaw Microsoft's successes, failures, launches, acquisitions, and more.\"}, {'url': 'https://en.wikipedia.org/wiki/Microsoft', 'content': \"Satya Nadella succeeded Steve Ballmer as the CEO of Microsoft in February 2014. [...] price created three billionaires and an estimated 12,000\\xa0millionaires among Microsoft employees. Since the 1990s, it has increasingly diversified from the operating system market. Steve Ballmer replaced Gates as CEO in 2000. He oversaw the then-largest of Microsoft's corporate acquisitions in Skype Technologies in 2011,[3] and an increased focus on hardware[4][5] that led to its first in-house PC line, the Surface, in 2012, and the formation of Microsoft Mobile through Nokia. Since Satya [...] On February 4, 2014, Steve Ballmer stepped down as CEO of Microsoft and was succeeded by Satya Nadella, who previously led Microsoft's Cloud and Enterprise division.[96] On the same day, John W. Thompson took on the role of chairman, in place of Bill Gates, who continued to participate as a technology advisor.[97] Thompson became the second chairman in Microsoft's history.[98] On April 25, 2014, Microsoft acquired Nokia Devices and Services for $7.2\\xa0billion.[99] This new subsidiary was renamed\"}]\u001b[0m\u001b[32;1m\u001b[1;3mThe current CEO of Microsoft is Satya Nadella. He has been the CEO since February 4, 2014. You can find more information about him on [Wikipedia](https://en.wikipedia.org/wiki/Satya_Nadella).\u001b[0m\n",
      "\n",
      "\u001b[1m> Finished chain.\u001b[0m\n"
     ]
    },
    {
     "data": {
      "text/plain": [
       "{'input': 'Who is the current CEO of Microsoft?',\n",
       " 'output': 'The current CEO of Microsoft is Satya Nadella. He has been the CEO since February 4, 2014. You can find more information about him on [Wikipedia](https://en.wikipedia.org/wiki/Satya_Nadella).'}"
      ]
     },
     "execution_count": 39,
     "metadata": {},
     "output_type": "execute_result"
    }
   ],
   "source": [
    "# print(response)\n",
    "\n",
    "query = \"Who is the current CEO of Microsoft?\"\n",
    "# response = agent.run(query)\n",
    "\n",
    "# print(response)\n",
    "agent_executor.invoke({\"input\":query})"
   ]
  },
  {
   "cell_type": "code",
   "execution_count": null,
   "id": "48f25dde-1383-40f7-8155-06be11d1256c",
   "metadata": {},
   "outputs": [],
   "source": []
  }
 ],
 "metadata": {
  "kernelspec": {
   "display_name": "Python 3 (ipykernel)",
   "language": "python",
   "name": "python3"
  },
  "language_info": {
   "codemirror_mode": {
    "name": "ipython",
    "version": 3
   },
   "file_extension": ".py",
   "mimetype": "text/x-python",
   "name": "python",
   "nbconvert_exporter": "python",
   "pygments_lexer": "ipython3",
   "version": "3.8.10"
  }
 },
 "nbformat": 4,
 "nbformat_minor": 5
}
